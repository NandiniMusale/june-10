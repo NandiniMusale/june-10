{
 "cells": [
  {
   "cell_type": "markdown",
   "id": "6d4b41d7",
   "metadata": {},
   "source": [
    "1.In Python, what is the difference between a built-in function and a user-defined function? Provide an\n",
    "example of each?\n",
    "\n",
    "Ans: In python builtin functions are the functions are already defined in python,where as user-defined funcyions are the functions that are defined by the user by usinf def keyword.\n"
   ]
  },
  {
   "cell_type": "code",
   "execution_count": 2,
   "id": "4a5eb06d",
   "metadata": {},
   "outputs": [
    {
     "name": "stdout",
     "output_type": "stream",
     "text": [
      "8\n"
     ]
    }
   ],
   "source": [
    "#Example for built in function \n",
    "\n",
    "l=[1,2,3,4,5,6,7,8]\n",
    "k=len(l)                   # here len() is a bulit in function\n",
    "print(k)"
   ]
  },
  {
   "cell_type": "code",
   "execution_count": 7,
   "id": "cf8214cd",
   "metadata": {},
   "outputs": [
    {
     "name": "stdout",
     "output_type": "stream",
     "text": [
      "5\n"
     ]
    }
   ],
   "source": [
    "# example for user defined function\n",
    "\n",
    "def sum(a,b):\n",
    "    k=a+b\n",
    "    return k\n",
    "    \n",
    "s=sum(2,3)\n",
    "print(s)"
   ]
  },
  {
   "cell_type": "markdown",
   "id": "c357774c",
   "metadata": {},
   "source": [
    "2.How can you pass arguments to a function in Python? Explain the difference between positional\n",
    "arguments and keyword arguments.\n",
    "\n",
    "Ans: we can pass the arguments during the function call.\n",
    "\n",
    "positional arguments:\n",
    "\n",
    "1.These are the arguments which are required to be passed at the timeof function calling with the exact match of their positions in the function call and function definition.\n",
    "\n",
    "2.If either of the arguments is not provided in the function call, or theposition of the arguments is changed, the Python interpreter willshow the error.\n",
    "\n",
    "3.If we change the number of arguments then we will get error.\n",
    "\n",
    "\n",
    "\n"
   ]
  },
  {
   "cell_type": "code",
   "execution_count": 5,
   "id": "a041c645",
   "metadata": {},
   "outputs": [
    {
     "name": "stdout",
     "output_type": "stream",
     "text": [
      "-100\n",
      "100\n"
     ]
    }
   ],
   "source": [
    "#positional arguments:\n",
    "def sub(a, b):\n",
    "\n",
    "    print(a-b)\n",
    "\n",
    "sub(100, 200)\n",
    "\n",
    "sub(200, 100)"
   ]
  },
  {
   "cell_type": "markdown",
   "id": "b0a53c1a",
   "metadata": {},
   "source": [
    "2.How can you pass arguments to a function in Python? Explain the difference between positional\n",
    "arguments and keyword arguments.\n",
    "\n",
    "1.This kind of function call will enable us to pass the arguments in the\n",
    "random order.\n",
    "\n",
    "2.The name of the arguments is treated as the keywords and matched in the function calling and definition. If the same match is found, the values of the arguments are copied in the function definition."
   ]
  },
  {
   "cell_type": "code",
   "execution_count": 7,
   "id": "7c027554",
   "metadata": {},
   "outputs": [
    {
     "name": "stdout",
     "output_type": "stream",
     "text": [
      "Hello students Good Morning\n",
      "Hello friends Good Morning\n"
     ]
    }
   ],
   "source": [
    "#keyword argument:\n",
    "#We can pass argument values by keyword i.e by parameter name.\n",
    "\n",
    "def wish(name,msg):\n",
    "\n",
    "    print(\"Hello\",name,msg)\n",
    "\n",
    "wish(name=\"students\",msg=\"Good Morning\")\n",
    "\n",
    "wish(msg=\"Good Morning\",name=\"friends\")"
   ]
  },
  {
   "cell_type": "markdown",
   "id": "bd8d1265",
   "metadata": {},
   "source": [
    "3 What is the purpose of the return statement in a function? Can a function have multiple return\n",
    "statements? Explain with an example.\n",
    "\n",
    "Ans: The purpose of the return statement is it returns the value when it is called.We cannot have multiple return statements.\n",
    "\n",
    "\n"
   ]
  },
  {
   "cell_type": "code",
   "execution_count": 8,
   "id": "5f2edca6",
   "metadata": {},
   "outputs": [
    {
     "name": "stdout",
     "output_type": "stream",
     "text": [
      "9\n"
     ]
    }
   ],
   "source": [
    "#example\n",
    "def square(a):\n",
    "    return a*a\n",
    "    return a*2\n",
    "k=square(3)\n",
    "print(k)"
   ]
  },
  {
   "cell_type": "markdown",
   "id": "dc43ae14",
   "metadata": {},
   "source": [
    "4.What are lambda functions in Python? How are they different from regular functions? Provide an\n",
    "example where a lambda function can be useful.\n",
    "\n",
    "Sometimes we can declare a function without any name,such type of nameless functions are called anonymous functions or lambda functions.\n",
    "\n",
    "1.The main purpose of anonymous function is just for instant use(i.e for one timeusage)\n",
    "\n",
    "2.You can use the lambda keyword to create small anonymous functions. These functions are called anonymous because they are not declared in the standard manner by using the def keyword.\n",
    "\n",
    "3.Lambda forms can take any number of arguments but return just one value in the form of an expression. They cannot contain commands or multiple expressions.\n",
    "\n",
    "4.An anonymous function cannot be a direct call to print because lambda requires an expression.\n",
    "\n",
    "5.Lambda functions have their own local namespace and cannot access variablesother than those in their parameter list and those in the global namespace.\n"
   ]
  },
  {
   "cell_type": "code",
   "execution_count": 3,
   "id": "ad5b750a",
   "metadata": {},
   "outputs": [
    {
     "name": "stdout",
     "output_type": "stream",
     "text": [
      "Value of total :  30\n",
      "Value of total :  40\n"
     ]
    }
   ],
   "source": [
    "sum = lambda arg1, arg2: arg1 + arg2;\n",
    "\n",
    "print( \"Value of total : \", sum( 10, 20 ))\n",
    "\n",
    "print( \"Value of total : \", sum( 20, 20 ))"
   ]
  },
  {
   "cell_type": "markdown",
   "id": "78e598bb",
   "metadata": {},
   "source": [
    "5.How does the concept of \"scope\" apply to functions in Python? Explain the difference between local\n",
    "scope and global scope.\n",
    "\n",
    "Ans: python supports two types of scope\n",
    "\n",
    "1.local scope\n",
    "2.global scope\n",
    "\n",
    "Global scope:\n",
    "The variables which are declared outside of the function are called global variable.These variables can be accessed in all the functions of that module\n",
    "\n",
    "local scope:\n",
    "The variables which are declared inside of the function are called local variables.Local variables are available only for the function in which we declared it i.e from outside of the function we cannot access it.\n"
   ]
  },
  {
   "cell_type": "code",
   "execution_count": 2,
   "id": "a3158b84",
   "metadata": {},
   "outputs": [
    {
     "name": "stdout",
     "output_type": "stream",
     "text": [
      "100\n"
     ]
    }
   ],
   "source": [
    "#Global Scope\n",
    "\n",
    "a=100\n",
    "def function():\n",
    "    print(a)\n",
    "k=function()\n"
   ]
  },
  {
   "cell_type": "code",
   "execution_count": 1,
   "id": "1d8dec14",
   "metadata": {},
   "outputs": [
    {
     "name": "stdout",
     "output_type": "stream",
     "text": [
      "10\n"
     ]
    },
    {
     "ename": "NameError",
     "evalue": "name 'a' is not defined",
     "output_type": "error",
     "traceback": [
      "\u001b[1;31m---------------------------------------------------------------------------\u001b[0m",
      "\u001b[1;31mNameError\u001b[0m                                 Traceback (most recent call last)",
      "Cell \u001b[1;32mIn[1], line 10\u001b[0m\n\u001b[0;32m      7\u001b[0m     \u001b[38;5;28mprint\u001b[39m(a)             \u001b[38;5;66;03m#this will throw an error\u001b[39;00m\n\u001b[0;32m      9\u001b[0m k\u001b[38;5;241m=\u001b[39mfunction1()\n\u001b[1;32m---> 10\u001b[0m s\u001b[38;5;241m=\u001b[39m\u001b[43mfunction2\u001b[49m\u001b[43m(\u001b[49m\u001b[43m)\u001b[49m\n",
      "Cell \u001b[1;32mIn[1], line 7\u001b[0m, in \u001b[0;36mfunction2\u001b[1;34m()\u001b[0m\n\u001b[0;32m      6\u001b[0m \u001b[38;5;28;01mdef\u001b[39;00m \u001b[38;5;21mfunction2\u001b[39m():\n\u001b[1;32m----> 7\u001b[0m     \u001b[38;5;28mprint\u001b[39m(\u001b[43ma\u001b[49m)\n",
      "\u001b[1;31mNameError\u001b[0m: name 'a' is not defined"
     ]
    }
   ],
   "source": [
    "# local Scope \n",
    "\n",
    "def function1():\n",
    "    a=10\n",
    "    print(a)             #print the value of a\n",
    "def function2():\n",
    "    print(a)             #this will throw an error\n",
    "    \n",
    "k=function1()\n",
    "s=function2()\n"
   ]
  },
  {
   "cell_type": "code",
   "execution_count": 8,
   "id": "915f07a8",
   "metadata": {},
   "outputs": [
    {
     "name": "stdout",
     "output_type": "stream",
     "text": [
      "The Sum is : 150\n",
      "The Subtraction is : 50\n"
     ]
    }
   ],
   "source": [
    "#6.How can you use the \"return\" statement in a Python function to return multiple values?\n",
    "\n",
    "# the following code shows how to return multiple values using return statement \n",
    "\n",
    "def sum_sub(a,b):\n",
    "\n",
    "    sum=a+b\n",
    "\n",
    "    sub=a-b\n",
    "\n",
    "    return sum,sub\n",
    "\n",
    "x,y=sum_sub(100,50)\n",
    "\n",
    "print(\"The Sum is :\",x)\n",
    "\n",
    "print(\"The Subtraction is :\",y)"
   ]
  },
  {
   "cell_type": "markdown",
   "id": "3bc57ffa",
   "metadata": {},
   "source": [
    "7.What is the difference between the \"pass by value\" and \"pass by reference\" concepts when it\n",
    "comes to function arguments in Python?\n",
    "\n",
    "pass by value:\n",
    "\n",
    "In pass by value we careate a variable and actually we pass the copy of that variable to the function. if we cange the value of the variable inside the function it will not effect the variable because we are passing a copy of that variable\n",
    "\n",
    "let us do this\n",
    "\n"
   ]
  },
  {
   "cell_type": "code",
   "execution_count": 5,
   "id": "a1feb6f5",
   "metadata": {},
   "outputs": [
    {
     "name": "stdout",
     "output_type": "stream",
     "text": [
      "30\n",
      "30 40\n"
     ]
    }
   ],
   "source": [
    "def sum(a,b):\n",
    "    a=10\n",
    "    b=20\n",
    "    return a+b\n",
    "a=30\n",
    "b=40\n",
    "k=sum(a,b)\n",
    "print(k)\n",
    "print(a,b)"
   ]
  },
  {
   "cell_type": "markdown",
   "id": "c0caf2aa",
   "metadata": {},
   "source": [
    "pass by reference:\n",
    "\n",
    "Here we pass the original object if we made any changes inside the function it will change the original value\n",
    "\n",
    "let us see with exapmle:"
   ]
  },
  {
   "cell_type": "code",
   "execution_count": 7,
   "id": "e5f32b17",
   "metadata": {},
   "outputs": [
    {
     "name": "stdout",
     "output_type": "stream",
     "text": [
      "[10, 2, 3, 4, 5]\n"
     ]
    }
   ],
   "source": [
    "a=[1,2,3,4,5]\n",
    "def list1(x):\n",
    "    x[0]=10\n",
    "    return x\n",
    "k=list1(a)\n",
    "print(k)\n",
    "    "
   ]
  },
  {
   "cell_type": "code",
   "execution_count": 10,
   "id": "24f8fd7a",
   "metadata": {},
   "outputs": [
    {
     "name": "stdout",
     "output_type": "stream",
     "text": [
      "The logorithmic function of x is:  4.605170185988092\n",
      "The exponential function of x is:  2.6881171418161356e+43\n",
      "The power function of x is:  1.2676506002282294e+30\n",
      "The square of x is  10\n"
     ]
    }
   ],
   "source": [
    "import math\n",
    "'''8. Create a function that can intake integer or decimal value and do following operations:\n",
    "a. Logarithmic function (log x)\n",
    "b. Exponential function (exp(x))\n",
    "c. Power function with base 2 (2x)\n",
    "d. Square root'''\n",
    "\n",
    "def function1(x):\n",
    "    log=math.log(x)\n",
    "    exp=math.exp(x)\n",
    "    power=math.pow(2,x)\n",
    "    sq=math.sqrt(x)\n",
    "    print(\"The logorithmic function of x is: \",log)\n",
    "    print(\"The exponential function of x is: \",exp)\n",
    "    print(\"The power function of x is: \",power)\n",
    "    print(\"The square of x is \",int(sq))\n",
    "k=function1(100)\n",
    "    "
   ]
  },
  {
   "cell_type": "code",
   "execution_count": 1,
   "id": "3706e197",
   "metadata": {},
   "outputs": [
    {
     "name": "stdout",
     "output_type": "stream",
     "text": [
      "first name is  John\n",
      "last name is wisley\n"
     ]
    }
   ],
   "source": [
    "#9.Create a function that takes a full name as an argument and returns first name and last name.\n",
    "def split(name):\n",
    "    k=name.split(\" \")\n",
    "    return k\n",
    "n=split(\"John wisley\")\n",
    "print(\"first name is \",n[0])\n",
    "print(\"last name is\",n[1])\n"
   ]
  },
  {
   "cell_type": "code",
   "execution_count": null,
   "id": "a6b03bd0",
   "metadata": {},
   "outputs": [],
   "source": []
  },
  {
   "cell_type": "code",
   "execution_count": null,
   "id": "a36dfb3a",
   "metadata": {},
   "outputs": [],
   "source": []
  },
  {
   "cell_type": "code",
   "execution_count": null,
   "id": "2ef380d9",
   "metadata": {},
   "outputs": [],
   "source": []
  },
  {
   "cell_type": "code",
   "execution_count": null,
   "id": "4637ad36",
   "metadata": {},
   "outputs": [],
   "source": []
  },
  {
   "cell_type": "code",
   "execution_count": null,
   "id": "a8f81767",
   "metadata": {},
   "outputs": [],
   "source": []
  }
 ],
 "metadata": {
  "kernelspec": {
   "display_name": "Python 3 (ipykernel)",
   "language": "python",
   "name": "python3"
  },
  "language_info": {
   "codemirror_mode": {
    "name": "ipython",
    "version": 3
   },
   "file_extension": ".py",
   "mimetype": "text/x-python",
   "name": "python",
   "nbconvert_exporter": "python",
   "pygments_lexer": "ipython3",
   "version": "3.10.9"
  }
 },
 "nbformat": 4,
 "nbformat_minor": 5
}
